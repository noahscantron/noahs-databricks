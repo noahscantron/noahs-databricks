{
 "cells": [
  {
   "cell_type": "code",
   "execution_count": 0,
   "metadata": {
    "application/vnd.databricks.v1+cell": {
     "cellMetadata": {},
     "inputWidgets": {},
     "nuid": "c8ba4963-1bfb-426c-9585-92fd16e0d6b1",
     "showTitle": false,
     "title": ""
    }
   },
   "outputs": [],
   "source": [
    "import os\n",
    "import time\n",
    "from dotenv import load_dotenv\n",
    "import numpy as np\n",
    "import pandas as pd\n",
    "import requests\n",
    "import seaborn as sns\n",
    "import plotly.express as px"
   ]
  },
  {
   "cell_type": "code",
   "execution_count": 0,
   "metadata": {
    "application/vnd.databricks.v1+cell": {
     "cellMetadata": {},
     "inputWidgets": {},
     "nuid": "0876e7c1-ae13-442f-b823-6d8ecf1dea22",
     "showTitle": false,
     "title": ""
    }
   },
   "outputs": [],
   "source": [
    "# Load .env\n",
    "load_dotenv()\n",
    "\n",
    "# Load API-keys\n",
    "ALPHA_API_KEY = os.getenv('ALPHAVANTAGE_API_KEY')\n",
    "GBQ_API_KEY = os.getenv('GBQ_API_KEY')"
   ]
  },
  {
   "cell_type": "code",
   "execution_count": 0,
   "metadata": {
    "application/vnd.databricks.v1+cell": {
     "cellMetadata": {},
     "inputWidgets": {},
     "nuid": "e55ca84e-c73b-4cff-80db-6da54fd9701a",
     "showTitle": false,
     "title": ""
    }
   },
   "outputs": [],
   "source": [
    "# Set the symbols I want to request\n",
    "symbols = [\n",
    "     'VOO'\n",
    "    ,'VGT'\n",
    "    ,'AAPL'\n",
    "    ,'MSFT'\n",
    "    ,'GOOGL'\n",
    "    ,'AMZN'\n",
    "    ]"
   ]
  },
  {
   "cell_type": "code",
   "execution_count": 0,
   "metadata": {
    "application/vnd.databricks.v1+cell": {
     "cellMetadata": {},
     "inputWidgets": {},
     "nuid": "9ea73338-a181-47f2-9870-64810809e2b5",
     "showTitle": false,
     "title": ""
    }
   },
   "outputs": [],
   "source": [
    "# Initialize DataFrames\n",
    "my_stocks = pd.DataFrame(columns=['Date','Symbol','Price','Price_Perc_Day_Change','Perc_Change_From_Initial_Price'])\n",
    "my_stocks_max_price = pd.DataFrame(columns=['Date','Symbol','Price','Price_Perc_Day_Change','Perc_Change_From_Initial_Price'])\n",
    "my_stocks_initial_value = pd.DataFrame(columns=['Symbol','Initial Date', 'Initial Price'])\n",
    "\n",
    "\n",
    "# Iterate through symbols\n",
    "for symbol in symbols:\n",
    "    \n",
    "    url = f'https://www.alphavantage.co/query?function=TIME_SERIES_DAILY_ADJUSTED&symbol={symbol}&outputsize=full&apikey={ALPHA_API_KEY}'\n",
    "    \n",
    "    # The AlphaVantage free API only allows 5 API calls every 60 seconds, so when a failed call occurs wait 10 seconds\n",
    "    API_call_flag = True\n",
    "    while API_call_flag:\n",
    "        response = requests.get(url)\n",
    "        if 'Note' in response.json():\n",
    "            print(f'Sleeping 10 seconds on {symbol} to not overload AlphaVantage free API')\n",
    "            time.sleep(10)\n",
    "        else:\n",
    "            API_call_flag = False\n",
    "            print(f'Successfully fetched: {symbol}')\n",
    "\n",
    "    # Get the successful API response's JSON key 'Time Series Daily'\n",
    "    symbol_data = response.json()\n",
    "    trading_data = symbol_data['Time Series (Daily)']\n",
    "\n",
    "    # Load the API response per symbol's JSON key '4. close' into a DataFrame, transpose it, and rename it to the current symbol\n",
    "    close_data_series = pd.to_numeric(pd.DataFrame(trading_data).T['4. close'].rename(symbol))\n",
    "\n",
    "    # Get minimum date per stock and append to my_stocks_initial_value\n",
    "    initial_date = close_data_series.index.min()\n",
    "    initial_price = close_data_series[initial_date]\n",
    "    my_stocks_initial_value = my_stocks_initial_value.append({'Symbol':symbol, 'Initial Date':initial_date, 'Initial Price':initial_price}, ignore_index=True)\n",
    "\n",
    "    # Create and add series of evolution of price percentage increase as column to my_stocks\n",
    "    this_symbol_perc_chg = round(((close_data_series / initial_price) - 1) * 100, 2)\n",
    "\n",
    "    # Bring together data\n",
    "    this_stock_df = pd.DataFrame(close_data_series).reset_index().rename(columns={'index':'Date',f'{symbol}':'Price'})\n",
    "    this_stock_df['Symbol'] = symbol\n",
    "    this_stock_df['Price_Perc_Day_Change'] = round(((this_stock_df['Price'] / this_stock_df['Price'].shift(-1)) - 1) * 100, 2)\n",
    "    this_stock_df['Price_Perc_Day_Change'].fillna(0, inplace=True)\n",
    "    this_stock_df['Perc_Change_From_Initial_Price'] = this_symbol_perc_chg.array\n",
    "\n",
    "    # Append data to my_stocks\n",
    "    my_stocks = my_stocks.append(this_stock_df)\n",
    "\n",
    "# Reset my_stocks index to be a RangeIndex, instead of a repeated series\n",
    "my_stocks.index = pd.RangeIndex(len(my_stocks.index))\n",
    "\n",
    "# Declare success when all symbols have been successfully fetched\n",
    "print('All symbols successfully fetched')"
   ]
  },
  {
   "cell_type": "code",
   "execution_count": 0,
   "metadata": {
    "application/vnd.databricks.v1+cell": {
     "cellMetadata": {},
     "inputWidgets": {},
     "nuid": "59cf7ba9-f60a-48cb-98b7-391028090795",
     "showTitle": false,
     "title": ""
    }
   },
   "outputs": [],
   "source": [
    "# Find the index of the max price per symbol, then append that row to the symbols_max_price DataFrame\n",
    "symbols_max_price = my_stocks.groupby(['Symbol']).idxmax()['Price']\n",
    "\n",
    "for idx in symbols_max_price:\n",
    "    my_stocks_max_price = my_stocks_max_price.append(my_stocks.iloc[idx,:])\n",
    "\n",
    "my_stocks_max_price.rename(columns={'Price':'MAX_Price'}, inplace=True)"
   ]
  },
  {
   "cell_type": "code",
   "execution_count": 0,
   "metadata": {
    "application/vnd.databricks.v1+cell": {
     "cellMetadata": {},
     "inputWidgets": {},
     "nuid": "0c0550ae-6b92-42f1-b468-e9deb3d68de3",
     "showTitle": false,
     "title": ""
    }
   },
   "outputs": [],
   "source": [
    "my_stocks"
   ]
  },
  {
   "cell_type": "code",
   "execution_count": 0,
   "metadata": {
    "application/vnd.databricks.v1+cell": {
     "cellMetadata": {},
     "inputWidgets": {},
     "nuid": "b1e2af8f-5ed4-4a05-bc7b-7cc02adb5447",
     "showTitle": false,
     "title": ""
    }
   },
   "outputs": [],
   "source": [
    "my_stocks_initial_value"
   ]
  },
  {
   "cell_type": "code",
   "execution_count": 0,
   "metadata": {
    "application/vnd.databricks.v1+cell": {
     "cellMetadata": {},
     "inputWidgets": {},
     "nuid": "5cd64a9b-497e-4e60-a88b-87c29884af7a",
     "showTitle": false,
     "title": ""
    }
   },
   "outputs": [],
   "source": [
    "my_stocks_max_price"
   ]
  },
  {
   "cell_type": "code",
   "execution_count": 0,
   "metadata": {
    "application/vnd.databricks.v1+cell": {
     "cellMetadata": {},
     "inputWidgets": {},
     "nuid": "09554c04-fd2b-4bb8-b365-cb73c63379af",
     "showTitle": false,
     "title": ""
    }
   },
   "outputs": [],
   "source": [
    "# Save results to .csv's\n",
    "my_stocks.to_csv(r'C:\\Users\\Noah\\Desktop\\API-Cloud-Stocks\\my_stocks')\n",
    "my_stocks_initial_value.to_csv(r'C:\\Users\\Noah\\Desktop\\API-Cloud-Stocks\\my_stocks_initial_Value')\n",
    "my_stocks_max_price.to_csv(r'C:\\Users\\Noah\\Desktop\\API-Cloud-Stocks\\my_stocks_max_price')"
   ]
  }
 ],
 "metadata": {
  "application/vnd.databricks.v1+notebook": {
   "dashboards": [],
   "language": "python",
   "notebookMetadata": {
    "pythonIndentUnit": 4
   },
   "notebookName": "api-cloud-stocks",
   "widgets": {}
  },
  "interpreter": {
   "hash": "0260bf529e97add9fd0f4568e60f43f9196cefd207197b0f52d33af2d155679b"
  },
  "kernelspec": {
   "display_name": "Python 3.8.8 ('base')",
   "language": "python",
   "name": "python3"
  },
  "language_info": {
   "codemirror_mode": {
    "name": "ipython",
    "version": 3
   },
   "file_extension": ".py",
   "mimetype": "text/x-python",
   "name": "python",
   "nbconvert_exporter": "python",
   "pygments_lexer": "ipython3",
   "version": "3.8.8"
  },
  "orig_nbformat": 4
 },
 "nbformat": 4,
 "nbformat_minor": 0
}
